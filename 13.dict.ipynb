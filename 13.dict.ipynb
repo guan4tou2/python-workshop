{
 "cells": [
  {
   "cell_type": "code",
   "execution_count": null,
   "metadata": {},
   "outputs": [],
   "source": [
    "dinner = {\"雞排\":100, \"珍奶\":50, \"滷肉飯\":60, \"麥當勞\":150, \"肯德基\":120, \"蛋包飯\":70}\n",
    "print(dinner)\n",
    "print(type(dinner))"
   ]
  },
  {
   "cell_type": "code",
   "execution_count": null,
   "metadata": {},
   "outputs": [],
   "source": [
    "dinner = {\"雞排\":100, \"珍奶\":50, \"滷肉飯\":60, \"麥當勞\":150, \"肯德基\":120, \"蛋包飯\":70}\n",
    "print(dinner[\"珍奶\"])"
   ]
  },
  {
   "cell_type": "code",
   "execution_count": null,
   "metadata": {},
   "outputs": [],
   "source": [
    "dinner = {}\n",
    "dinner[\"雞排\"]=100\n",
    "dinner[\"珍奶\"]=50\n",
    "dinner[\"滷肉飯\"]=60\n",
    "dinner[\"麥當勞\"]=150 \n",
    "dinner[\"肯德基\"]=120\n",
    "dinner[\"蛋包飯\"]=70\n",
    "print(dinner)"
   ]
  },
  {
   "cell_type": "code",
   "execution_count": null,
   "metadata": {},
   "outputs": [],
   "source": [
    "dinner = {\"雞排\":100, \"珍奶\":50, \"滷肉飯\":60, \"麥當勞\":150, \"肯德基\":120, \"蛋包飯\":70}\n",
    "dinner[\"珍奶\"]=90\n",
    "print(dinner[\"珍奶\"])"
   ]
  },
  {
   "cell_type": "code",
   "execution_count": null,
   "metadata": {},
   "outputs": [],
   "source": [
    "dinner = {\"雞排\":100, \"珍奶\":50, \"滷肉飯\":60, \"麥當勞\":150, \"肯德基\":120, \"蛋包飯\":70}\n",
    "print(\"珍奶\" in dinner)"
   ]
  },
  {
   "cell_type": "code",
   "execution_count": null,
   "metadata": {},
   "outputs": [],
   "source": [
    "dinner = {\"雞排\":100, \"珍奶\":50, \"滷肉飯\":60, \"麥當勞\":150, \"肯德基\":120, \"蛋包飯\":70}\n",
    "del dinner[\"珍奶\"]\n",
    "print(dinner)"
   ]
  },
  {
   "cell_type": "code",
   "execution_count": null,
   "metadata": {},
   "outputs": [],
   "source": [
    "dinner = {\"雞排\":100, \"珍奶\":50, \"滷肉飯\":60, \"麥當勞\":150, \"肯德基\":120, \"蛋包飯\":70}\n",
    "lunch=dinner.copy()\n",
    "print(lunch)"
   ]
  },
  {
   "cell_type": "code",
   "execution_count": null,
   "metadata": {},
   "outputs": [],
   "source": [
    "dinner = {\"雞排\":100, \"珍奶\":50, \"滷肉飯\":60, \"麥當勞\":150, \"肯德基\":120, \"蛋包飯\":70}\n",
    "dinner.clear()\n",
    "print(dinner)"
   ]
  },
  {
   "cell_type": "code",
   "execution_count": 2,
   "metadata": {},
   "outputs": [
    {
     "name": "stdout",
     "output_type": "stream",
     "text": [
      "{'雞排': 100, '珍奶': 50, '滷肉飯': 60, '麥當勞': 150, '肯德基': 120, '蛋包飯': 70}\n"
     ]
    }
   ],
   "source": [
    "dinner = dict([(\"雞排\",100), (\"珍奶\",50), (\"滷肉飯\",60), (\"麥當勞\",150), (\"肯德基\",120,), (\"蛋包飯\",70)])\n",
    "print(dinner)"
   ]
  },
  {
   "cell_type": "code",
   "execution_count": null,
   "metadata": {},
   "outputs": [
    {
     "name": "stdout",
     "output_type": "stream",
     "text": [
      "{'雞排': 100, '珍奶': 50, '滷肉飯': 60, '麥當勞': 150, '肯德基': 120, '蛋包飯': 70}\n"
     ]
    }
   ],
   "source": [
    "dinner = dict([[\"雞排\",100], [\"珍奶\",50], [\"滷肉飯\",60], [\"麥當勞\",150], [\"肯德基\",120,], [\"蛋包飯\",70]])\n",
    "print(dinner)"
   ]
  }
 ],
 "metadata": {
  "kernelspec": {
   "display_name": "Python 3",
   "language": "python",
   "name": "python3"
  },
  "language_info": {
   "codemirror_mode": {
    "name": "ipython",
    "version": 3
   },
   "file_extension": ".py",
   "mimetype": "text/x-python",
   "name": "python",
   "nbconvert_exporter": "python",
   "pygments_lexer": "ipython3",
   "version": "3.11.2"
  },
  "orig_nbformat": 4
 },
 "nbformat": 4,
 "nbformat_minor": 2
}
