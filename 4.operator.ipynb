{
 "cells": [
  {
   "cell_type": "code",
   "execution_count": 1,
   "metadata": {},
   "outputs": [
    {
     "name": "stdout",
     "output_type": "stream",
     "text": [
      "2\n",
      "3\n",
      "15\n",
      "243\n",
      "2.875\n",
      "2\n",
      "7\n"
     ]
    }
   ],
   "source": [
    "print(1+1)\n",
    "print(4-1)\n",
    "print(3*5)\n",
    "print(3**5)\n",
    "print(23/8)\n",
    "print(23//8)\n",
    "print(23%8)"
   ]
  },
  {
   "cell_type": "code",
   "execution_count": null,
   "metadata": {},
   "outputs": [],
   "source": [
    "number1=3\n",
    "number1=number1+3\n",
    "print(number1)"
   ]
  },
  {
   "cell_type": "code",
   "execution_count": null,
   "metadata": {},
   "outputs": [],
   "source": [
    "number1=3\n",
    "number1+=3\n",
    "print(number1)"
   ]
  },
  {
   "cell_type": "code",
   "execution_count": null,
   "metadata": {},
   "outputs": [],
   "source": [
    "number1=3\n",
    "number1++3\n",
    "print(number1)"
   ]
  },
  {
   "cell_type": "code",
   "execution_count": null,
   "metadata": {},
   "outputs": [],
   "source": [
    "print(4>6)\n",
    "print(4<6)\n",
    "print(4==6)\n",
    "print(4!=6)\n",
    "print(4>=6)\n",
    "print(4<=6)"
   ]
  },
  {
   "cell_type": "code",
   "execution_count": null,
   "metadata": {},
   "outputs": [],
   "source": [
    "print(True and True)\n",
    "print(True and False)\n",
    "print(False and False)\n",
    "print(True or True)\n",
    "print(True or False)\n",
    "print(False or False)\n",
    "print(not False)\n",
    "print(not True)"
   ]
  },
  {
   "cell_type": "code",
   "execution_count": null,
   "metadata": {},
   "outputs": [],
   "source": []
  }
 ],
 "metadata": {
  "kernelspec": {
   "display_name": "Python 3",
   "language": "python",
   "name": "python3"
  },
  "language_info": {
   "codemirror_mode": {
    "name": "ipython",
    "version": 3
   },
   "file_extension": ".py",
   "mimetype": "text/x-python",
   "name": "python",
   "nbconvert_exporter": "python",
   "pygments_lexer": "ipython3",
   "version": "3.11.2"
  },
  "orig_nbformat": 4
 },
 "nbformat": 4,
 "nbformat_minor": 2
}
