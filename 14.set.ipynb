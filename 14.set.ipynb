{
 "cells": [
  {
   "cell_type": "code",
   "execution_count": null,
   "metadata": {},
   "outputs": [],
   "source": [
    "dinner = {'雞排', '珍奶', '滷肉飯', '麥當勞', '麥當勞',\n",
    "          '肯德基', '蛋包飯', '拉麵', '拉麵', '咖哩飯', '鍋燒意麵'}\n",
    "print(dinner)\n",
    "print(type(dinner))"
   ]
  },
  {
   "cell_type": "code",
   "execution_count": null,
   "metadata": {},
   "outputs": [],
   "source": [
    "dinner = {'雞排', '珍奶', '滷肉飯', '麥當勞', '麥當勞',\n",
    "          '肯德基', '蛋包飯', '拉麵', '拉麵', '咖哩飯', '鍋燒意麵'}\n",
    "dinner.add(\"蛋餅\")\n",
    "dinner.remove(\"雞排\")\n",
    "print(dinner)"
   ]
  }
 ],
 "metadata": {
  "language_info": {
   "name": "python"
  },
  "orig_nbformat": 4
 },
 "nbformat": 4,
 "nbformat_minor": 2
}
