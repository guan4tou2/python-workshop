{
 "cells": [
  {
   "cell_type": "code",
   "execution_count": null,
   "metadata": {},
   "outputs": [],
   "source": [
    "year=2023\n",
    "print(year)"
   ]
  },
  {
   "cell_type": "code",
   "execution_count": 5,
   "metadata": {},
   "outputs": [
    {
     "name": "stdout",
     "output_type": "stream",
     "text": [
      "<class 'int'>\n",
      "<class 'float'>\n",
      "<class 'bool'>\n",
      "4368190736\n",
      "4364798448\n",
      "4321208888\n"
     ]
    }
   ],
   "source": [
    "Int=2023\n",
    "Float=20.23\n",
    "Bool=True\n",
    "print(type(Int))\n",
    "print(type(Float))\n",
    "print(type(Bool))\n",
    "print(id(Int))\n",
    "print(id(Float))\n",
    "print(id(Bool))"
   ]
  },
  {
   "cell_type": "code",
   "execution_count": 6,
   "metadata": {},
   "outputs": [
    {
     "name": "stdout",
     "output_type": "stream",
     "text": [
      "35\n",
      "35\n"
     ]
    }
   ],
   "source": [
    "number1=12\n",
    "number2=23\n",
    "number3=number1+number2\n",
    "print(number1+number2)\n",
    "print(number3)"
   ]
  },
  {
   "cell_type": "code",
   "execution_count": 7,
   "metadata": {},
   "outputs": [
    {
     "name": "stdout",
     "output_type": "stream",
     "text": [
      "4321210248\n",
      "4321210600\n",
      "4321210984\n"
     ]
    }
   ],
   "source": [
    "number1=12\n",
    "number2=23\n",
    "number=number2\n",
    "print(id(number1))\n",
    "print(id(number2))\n",
    "print(id(number3))"
   ]
  }
 ],
 "metadata": {
  "kernelspec": {
   "display_name": "Python 3",
   "language": "python",
   "name": "python3"
  },
  "language_info": {
   "codemirror_mode": {
    "name": "ipython",
    "version": 3
   },
   "file_extension": ".py",
   "mimetype": "text/x-python",
   "name": "python",
   "nbconvert_exporter": "python",
   "pygments_lexer": "ipython3",
   "version": "3.11.2"
  },
  "orig_nbformat": 4
 },
 "nbformat": 4,
 "nbformat_minor": 2
}
