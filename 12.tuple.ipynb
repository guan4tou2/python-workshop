{
 "cells": [
  {
   "cell_type": "code",
   "execution_count": null,
   "metadata": {},
   "outputs": [],
   "source": [
    "dinner=(\"雞排\",\"珍奶\",\"滷肉飯\",\"麥當勞\",\"肯德基\",\"蛋包飯\")\n",
    "print(dinner)\n",
    "print(type(dinner))"
   ]
  },
  {
   "cell_type": "code",
   "execution_count": null,
   "metadata": {},
   "outputs": [],
   "source": [
    "dinner=(\"雞排\",\"珍奶\",\"滷肉飯\",\"麥當勞\",\"肯德基\",\"蛋包飯\")\n",
    "print(dinner[3])\n",
    "dinner[3]=\"鱔魚意麵\"\n",
    "print(dinner)"
   ]
  },
  {
   "cell_type": "code",
   "execution_count": 1,
   "metadata": {},
   "outputs": [
    {
     "name": "stdout",
     "output_type": "stream",
     "text": [
      "('雞排', '珍奶')\n",
      "雞排\n"
     ]
    }
   ],
   "source": [
    "dinner=((\"雞排\",\"珍奶\"),\"滷肉飯\",\"麥當勞\",\"肯德基\",\"蛋包飯\")\n",
    "print(dinner[0])\n",
    "print(dinner[0][0])"
   ]
  }
 ],
 "metadata": {
  "kernelspec": {
   "display_name": "Python 3",
   "language": "python",
   "name": "python3"
  },
  "language_info": {
   "codemirror_mode": {
    "name": "ipython",
    "version": 3
   },
   "file_extension": ".py",
   "mimetype": "text/x-python",
   "name": "python",
   "nbconvert_exporter": "python",
   "pygments_lexer": "ipython3",
   "version": "3.11.2"
  },
  "orig_nbformat": 4
 },
 "nbformat": 4,
 "nbformat_minor": 2
}
