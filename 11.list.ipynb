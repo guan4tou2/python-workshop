{
 "cells": [
  {
   "cell_type": "code",
   "execution_count": null,
   "metadata": {},
   "outputs": [],
   "source": [
    "dinner=[\"雞排\",\"珍奶\",\"滷肉飯\",\"麥當勞\",\"肯德基\",\"蛋包飯\"]\n",
    "print(dinner)"
   ]
  },
  {
   "cell_type": "code",
   "execution_count": null,
   "metadata": {},
   "outputs": [],
   "source": [
    "dinner=[\"雞排\",\"珍奶\",\"滷肉飯\",\"麥當勞\",\"肯德基\",\"蛋包飯\"]\n",
    "print(len(dinner))"
   ]
  },
  {
   "cell_type": "code",
   "execution_count": null,
   "metadata": {},
   "outputs": [],
   "source": [
    "dinner=[\"雞排\",\"珍奶\",\"滷肉飯\",\"麥當勞\",\"肯德基\",\"蛋包飯\"]\n",
    "print(dinner[3])\n",
    "print(dinner[4])\n",
    "print(dinner[7])"
   ]
  },
  {
   "cell_type": "code",
   "execution_count": 1,
   "metadata": {},
   "outputs": [
    {
     "name": "stdout",
     "output_type": "stream",
     "text": [
      "['滷肉飯', '麥當勞', '肯德基', '蛋包飯']\n",
      "['雞排', '珍奶', '滷肉飯', '麥當勞']\n",
      "['麥當勞', '肯德基', '蛋包飯']\n",
      "['雞排', '珍奶', '滷肉飯', '麥當勞', '肯德基']\n"
     ]
    }
   ],
   "source": [
    "dinner=[\"雞排\",\"珍奶\",\"滷肉飯\",\"麥當勞\",\"肯德基\",\"蛋包飯\"]\n",
    "print(dinner[2:])\n",
    "print(dinner[:4])\n",
    "print(dinner[-3:])\n",
    "print(dinner[:-1])\n",
    "print(dinner[:])"
   ]
  },
  {
   "cell_type": "code",
   "execution_count": null,
   "metadata": {},
   "outputs": [],
   "source": [
    "dinner=[\"雞排\",\"珍奶\",\"滷肉飯\",\"麥當勞\",\"肯德基\",\"蛋包飯\"]\n",
    "print(dinner[1:5:2])\n",
    "print(dinner[::2])\n",
    "print(dinner[::-2])"
   ]
  },
  {
   "cell_type": "code",
   "execution_count": 6,
   "metadata": {},
   "outputs": [
    {
     "name": "stdout",
     "output_type": "stream",
     "text": [
      "['雞排', '珍奶', '滷肉飯', '麥當勞', '肯德基', '蛋包飯']\n",
      "['雞排', '珍奶', '滷肉飯', '麥當勞', '肯德基', '蛋包飯', '拉麵']\n",
      "['珍奶', '滷肉飯', '麥當勞', '肯德基', '蛋包飯', '拉麵']\n"
     ]
    }
   ],
   "source": [
    "dinner=[\"雞排\",\"珍奶\",\"滷肉飯\",\"麥當勞\",\"肯德基\",\"蛋包飯\"]\n",
    "print(dinner)\n",
    "dinner.append(\"拉麵\")\n",
    "print(dinner)\n",
    "del dinner[0]\n",
    "print(dinner)\n",
    "dinner[-1]=\"炒飯\"\n",
    "print(dinner)"
   ]
  },
  {
   "cell_type": "code",
   "execution_count": 3,
   "metadata": {},
   "outputs": [
    {
     "name": "stdout",
     "output_type": "stream",
     "text": [
      "3\n"
     ]
    }
   ],
   "source": [
    "dinner=[\"雞排\",\"珍奶\",\"滷肉飯\",\"麥當勞\",\"雞排\",\"肯德基\",\"蛋包飯\",\"雞排\"]\n",
    "print(dinner.count(\"雞排\"))\n"
   ]
  },
  {
   "cell_type": "code",
   "execution_count": 4,
   "metadata": {},
   "outputs": [
    {
     "name": "stdout",
     "output_type": "stream",
     "text": [
      "['雞排', '珍奶', '滷肉飯', '麥當勞', '肯德基', '蛋包飯']\n",
      "['拉麵', '咖哩飯', '鍋燒意麵']\n",
      "None\n",
      "['雞排', '珍奶', '滷肉飯', '麥當勞', '肯德基', '蛋包飯', '拉麵', '咖哩飯', '鍋燒意麵']\n"
     ]
    }
   ],
   "source": [
    "dinner=[\"雞排\",\"珍奶\",\"滷肉飯\",\"麥當勞\",\"肯德基\",\"蛋包飯\"]\n",
    "lunch=[\"拉麵\",\"咖哩飯\",\"鍋燒意麵\"]\n",
    "print(dinner)\n",
    "print(lunch)\n",
    "dinner.extend(lunch)\n",
    "print(dinner)\n",
    "print(dinner+lunch)\n",
    "print(lunch*2)"
   ]
  },
  {
   "cell_type": "code",
   "execution_count": null,
   "metadata": {},
   "outputs": [],
   "source": [
    "name=list(\"鍋燒意麵\")\n",
    "print(name)"
   ]
  },
  {
   "cell_type": "code",
   "execution_count": 5,
   "metadata": {},
   "outputs": [
    {
     "name": "stdout",
     "output_type": "stream",
     "text": [
      "567\n",
      "0\n"
     ]
    }
   ],
   "source": [
    "numbers=[1,45,363,567,37,284,85,28,0,5,3,8]\n",
    "print(max(numbers))\n",
    "print(min(numbers))"
   ]
  },
  {
   "cell_type": "code",
   "execution_count": null,
   "metadata": {},
   "outputs": [],
   "source": [
    "dinner=[\"雞排\",\"珍奶\",\"滷肉飯\",\"麥當勞\",\"肯德基\",\"蛋包飯\"]\n",
    "print(\"炒麵\" in dinner)\n",
    "print(\"炒飯\" in dinner)"
   ]
  },
  {
   "cell_type": "code",
   "execution_count": 9,
   "metadata": {},
   "outputs": [
    {
     "name": "stdout",
     "output_type": "stream",
     "text": [
      "['雞排', '珍奶', '滷肉飯', '麥當勞', '肯德基', '蛋包飯']\n",
      "['雞排', '珍奶', '滷肉飯', '麥當勞', '肯德基', '蛋包飯']\n",
      "['雞排', '珍奶', '滷肉飯', '麥當勞', '肯德基', '蛋包飯']\n",
      "['雞排', '蛋餅', '滷肉飯', '麥當勞', '肯德基', '蛋包飯']\n",
      "['蔥油餅', '珍奶', '滷肉飯', '麥當勞', '肯德基', '蛋包飯']\n",
      "['蔥油餅', '珍奶', '滷肉飯', '麥當勞', '肯德基', '蛋包飯']\n"
     ]
    }
   ],
   "source": [
    "dinner=[\"雞排\",\"珍奶\",\"滷肉飯\",\"麥當勞\",\"肯德基\",\"蛋包飯\"]\n",
    "lunch=dinner\n",
    "breakfast=dinner.copy()\n",
    "print(breakfast)\n",
    "print(lunch)\n",
    "print(dinner)\n",
    "lunch[0]=\"蔥油餅\"\n",
    "breakfast[1]=\"蛋餅\"\n",
    "print(breakfast)\n",
    "print(lunch)\n",
    "print(dinner)"
   ]
  },
  {
   "cell_type": "code",
   "execution_count": null,
   "metadata": {},
   "outputs": [],
   "source": [
    "dinner = [\"雞排\", \"珍奶\", \"滷肉飯\", \"麥當勞\", \"肯德基\", \"蛋包飯\"]\n",
    "for i in dinner:\n",
    "    print(i)"
   ]
  }
 ],
 "metadata": {
  "kernelspec": {
   "display_name": "Python 3",
   "language": "python",
   "name": "python3"
  },
  "language_info": {
   "codemirror_mode": {
    "name": "ipython",
    "version": 3
   },
   "file_extension": ".py",
   "mimetype": "text/x-python",
   "name": "python",
   "nbconvert_exporter": "python",
   "pygments_lexer": "ipython3",
   "version": "3.11.2"
  },
  "orig_nbformat": 4
 },
 "nbformat": 4,
 "nbformat_minor": 2
}
